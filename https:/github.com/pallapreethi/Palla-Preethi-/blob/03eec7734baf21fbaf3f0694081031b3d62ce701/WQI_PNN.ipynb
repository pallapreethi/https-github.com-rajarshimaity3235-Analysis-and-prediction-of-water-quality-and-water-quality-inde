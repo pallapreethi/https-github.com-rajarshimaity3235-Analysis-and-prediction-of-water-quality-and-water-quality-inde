
https://github.com/pallapreethi/Palla-Preethi-/blob/03eec7734baf21fbaf3f0694081031b3d62ce701/WQI_PNN.ipynb
